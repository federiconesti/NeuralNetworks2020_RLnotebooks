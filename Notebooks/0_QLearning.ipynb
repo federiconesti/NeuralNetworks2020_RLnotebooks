{
 "cells": [
  {
   "cell_type": "markdown",
   "metadata": {
    "collapsed": true
   },
   "source": [
    "# Reinforcement Learning: Tabular and simple network Q-Learning"
   ]
  },
  {
   "cell_type": "markdown",
   "metadata": {},
   "source": [
    "This is the first notebook of a series on Reinforcement Learning. The framework used is OpenAI Gym, a set of out-of-the-box environments, from the simple Grid World to complex robotics tasks such as object manipulation. It also includes a very long list of Atari games.\n",
    "\n",
    "OpenAI gym (pip install gym) is a very useful tool to test, develop and compare Reinforcement Learning algorithms without going crazy modeling environments that most of the time have problems. "
   ]
  },
  {
   "cell_type": "code",
   "execution_count": 1,
   "metadata": {},
   "outputs": [],
   "source": [
    "import gym\n",
    "import numpy as np\n",
    "import matplotlib.pyplot as plt\n",
    "%matplotlib inline"
   ]
  },
  {
   "cell_type": "markdown",
   "metadata": {},
   "source": [
    "Importing `gym` module is enough to load all the classes needed. `gym.make(environment)` is the command to load a specific `Env` class. An `Env` class has everything that we would expect from an environment: \n",
    "* **Observation Space** and **Action Space**: are described by the class `Space`, and can be of the type `Discrete(n)` (a single action to be chosen among n alternatives) or of the type `Box(n,)` (continuous space, with high and low bounds). Refer to [OpenAI Gym documentation](https://gym.openai.com/docs/).\n",
    "\n",
    "Environments also have three fundamental methods:\n",
    "* **`s = env.reset()`**: resets the environment, returning the initial observation;\n",
    "* **`env.render()`**: renders the environment. Depending on the environment, it could print on the terminal or make a window pop out;\n",
    "* **`s', r, d, i = env.step(action)`**: this command is the equivalent of a RL agent loop. It performs action a, observes reward r and state s'. `step` returns (`observation`, `reward`, `done`, `info`)."
   ]
  },
  {
   "cell_type": "markdown",
   "metadata": {},
   "source": [
    "## Frozen Lake (aka GridWorld)\n",
    "`FrozenLake-v0' is a 4x4 GridWorld environment. It is a MDP 16 states, which can be S (start), F (frozen), H (hole, terminates episode) and G (goal). The actions available are 4 (up, down, left, right), but the ice can be made slippery. It that case, the agent will not always move in the direction it wants: the actual move is uniformly distributed among the chosen action and the two contiguous actions (e.g., if chosen action is DOWN, the environment will pick randomly an action between (LEFT, DOWN, RIGHT)).\n",
    "\n",
    "Reward is 0 at every step, except from stepping on G state, which rewards with 1."
   ]
  },
  {
   "cell_type": "code",
   "execution_count": 2,
   "metadata": {},
   "outputs": [
    {
     "name": "stdout",
     "output_type": "stream",
     "text": [
      "16\n",
      "4\n"
     ]
    }
   ],
   "source": [
    "IS_SLIPPERY = True\n",
    "\n",
    "# print(gym.envs.registry.all())    # https://gym.openai.com/envs/#classic_control\n",
    "env = gym.make('FrozenLake-v0', is_slippery=IS_SLIPPERY)\n",
    "print(env.observation_space.n)\n",
    "print(env.action_space.n)"
   ]
  },
  {
   "cell_type": "code",
   "execution_count": 3,
   "metadata": {},
   "outputs": [
    {
     "name": "stdout",
     "output_type": "stream",
     "text": [
      "  (Left)\n",
      "SFFF\n",
      "\u001b[41mF\u001b[0mHFH\n",
      "FFFH\n",
      "HFFG\n",
      "Episode Ended\n"
     ]
    }
   ],
   "source": [
    "from IPython.display import clear_output\n",
    "\n",
    "for ep in range(2):\n",
    "    s = env.reset()\n",
    "\n",
    "    for i in range(20):\n",
    "        plt.pause(1)\n",
    "        clear_output(wait=True)\n",
    "        env.render()\n",
    "\n",
    "        s1, r, d, _ = env.step(env.action_space.sample())\n",
    "        \n",
    "        if d:\n",
    "            print(\"Episode Ended\")\n",
    "            break\n",
    "        "
   ]
  },
  {
   "cell_type": "markdown",
   "metadata": {},
   "source": [
    "### Q-Learning\n",
    "We are going to implement tabular Q-Learning. Remember that for each episode, action is chosen greedily (or $\\epsilon$-greedily - not necessary since Q-Learning is an off-policy method), while the action-value approximation is computed iteratively as $$Q(s,a) \\leftarrow Q(s,a) + \\alpha (r + \\gamma \\max Q(s', a') -Q(s,a))$$"
   ]
  },
  {
   "cell_type": "code",
   "execution_count": 4,
   "metadata": {},
   "outputs": [
    {
     "name": "stdout",
     "output_type": "stream",
     "text": [
      "Episode 0, Average Success Rate: 0.0, Exploration rate: 0.9995\n",
      "Episode 1000, Average Success Rate: 0.34165834165834164, Exploration rate: 0.606151595428677\n",
      "Episode 2000, Average Success Rate: 0.44427786106946526, Exploration rate: 0.36760355841993914\n",
      "Episode 3000, Average Success Rate: 0.4915028323892036, Exploration rate: 0.22293495089695248\n",
      "Episode 4000, Average Success Rate: 0.5161209697575606, Exploration rate: 0.1351999761510762\n",
      "Episode 5000, Average Success Rate: 0.5310937812437513, Exploration rate: 0.08199267758468616\n",
      "Episode 6000, Average Success Rate: 0.5447425429095151, Exploration rate: 0.04972485475880578\n",
      "Episode 7000, Average Success Rate: 0.5470647050421369, Exploration rate: 0.030155877983500955\n",
      "Episode 8000, Average Success Rate: 0.5458067741532309, Exploration rate: 0.018288177640071544\n",
      "Episode 9000, Average Success Rate: 0.546717031440951, Exploration rate: 0.011090953530777752\n",
      "Episode 10000, Average Success Rate: 0.5500449955004499, Exploration rate: 0.006726162258635551\n",
      "Episode 11000, Average Success Rate: 0.5533133351513498, Exploration rate: 0.004079113540954552\n",
      "Episode 12000, Average Success Rate: 0.5552037330222481, Exploration rate: 0.0024737980798242264\n",
      "Episode 13000, Average Success Rate: 0.556726405661103, Exploration rate: 0.0015002467762419717\n",
      "Episode 14000, Average Success Rate: 0.5615313191914864, Exploration rate: 0.000909831892902246\n",
      "Episode 15000, Average Success Rate: 0.563095793613759, Exploration rate: 0.0005517719394242999\n",
      "Episode 16000, Average Success Rate: 0.5659646272107993, Exploration rate: 0.00033462475377169903\n",
      "Episode 17000, Average Success Rate: 0.5670254690900536, Exploration rate: 0.0002029347957665263\n",
      "Episode 18000, Average Success Rate: 0.5679684461974335, Exploration rate: 0.0001230707856146795\n",
      "Episode 19000, Average Success Rate: 0.569601599915794, Exploration rate: 7.463687148674165e-05\n",
      "Episode 20000, Average Success Rate: 0.5657717114144293, Exploration rate: 4.5263890674830964e-05\n",
      "Episode 21000, Average Success Rate: 0.5597352507023475, Exploration rate: 2.7450504800258055e-05\n",
      "Episode 22000, Average Success Rate: 0.5535202945320667, Exploration rate: 1.6647491025511675e-05\n",
      "Episode 23000, Average Success Rate: 0.5471501239076562, Exploration rate: 1.0095951220608746e-05\n",
      "Episode 24000, Average Success Rate: 0.5421024123994833, Exploration rate: 6.122738308896529e-06\n",
      "Episode 25000, Average Success Rate: 0.5390184392624295, Exploration rate: 3.7131641764181064e-06\n",
      "Episode 26000, Average Success Rate: 0.5414022537594708, Exploration rate: 2.251866322785834e-06\n",
      "Episode 27000, Average Success Rate: 0.5430909966297545, Exploration rate: 1.3656551918446582e-06\n",
      "Episode 28000, Average Success Rate: 0.5436591550301775, Exploration rate: 8.28208177430808e-07\n",
      "Episode 29000, Average Success Rate: 0.5449467259749664, Exploration rate: 5.022708435185191e-07\n",
      "Episode 30000, Average Success Rate: 0.5467151094963502, Exploration rate: 3.046045754237684e-07\n",
      "Episode 31000, Average Success Rate: 0.5484016644624367, Exploration rate: 1.8472891382490378e-07\n",
      "Episode 32000, Average Success Rate: 0.550670291553389, Exploration rate: 1.120297407071251e-07\n",
      "Episode 33000, Average Success Rate: 0.5516499500015151, Exploration rate: 6.794097655336145e-08\n",
      "Episode 34000, Average Success Rate: 0.5529249139731185, Exploration rate: 4.1203132899251884e-08\n",
      "Episode 35000, Average Success Rate: 0.5534699008599754, Exploration rate: 2.498783866287266e-08\n",
      "Episode 36000, Average Success Rate: 0.5543734896252882, Exploration rate: 1.5153995269449287e-08\n",
      "Episode 37000, Average Success Rate: 0.5549309478122213, Exploration rate: 9.190213516453504e-09\n",
      "Episode 38000, Average Success Rate: 0.555774848030315, Exploration rate: 5.573449309983453e-09\n",
      "Episode 39000, Average Success Rate: 0.557395964206046, Exploration rate: 3.3800452138942725e-09\n",
      "Episode 40000, Average Success Rate: 0.5578110547236319, Exploration rate: 2.0498447213837586e-09\n",
      "Episode 41000, Average Success Rate: 0.5581327284700374, Exploration rate: 1.2431382173564905e-09\n",
      "Episode 42000, Average Success Rate: 0.5591533534915836, Exploration rate: 7.539071673726819e-10\n",
      "Episode 43000, Average Success Rate: 0.5603590614171764, Exploration rate: 4.572106376268779e-10\n",
      "Episode 44000, Average Success Rate: 0.5613736051453376, Exploration rate: 2.77277596242616e-10\n",
      "Episode 45000, Average Success Rate: 0.5620541765738539, Exploration rate: 1.6815633550684257e-10\n",
      "Episode 46000, Average Success Rate: 0.5624442946892458, Exploration rate: 1.0197922065924198e-10\n",
      "Episode 47000, Average Success Rate: 0.5630518499606392, Exploration rate: 6.18457901982715e-11\n",
      "Episode 48000, Average Success Rate: 0.5642382450365617, Exploration rate: 3.750667773809844e-11\n",
      "Episode 49000, Average Success Rate: 0.5650905083569723, Exploration rate: 2.274610560297906e-11\n"
     ]
    }
   ],
   "source": [
    "# Q Table initialization\n",
    "Q = np.zeros([env.observation_space.n, env.action_space.n])\n",
    "\n",
    "# Set Learning Parameters\n",
    "if IS_SLIPPERY:\n",
    "    lr = 0.8\n",
    "else:\n",
    "    lr = .05\n",
    "y = 0.95\n",
    "numEpisodes = 50000\n",
    "maxEpStep = 100\n",
    "update = 1000\n",
    "eps = 1.0\n",
    "epsDecay = 1-5e-4\n",
    "rList = []\n",
    "rMean = []\n",
    "rWindow = []\n",
    "\n",
    "for i in range(numEpisodes):\n",
    "    s = env.reset()\n",
    "    rTotal = 0\n",
    "    done = False\n",
    "    j = 0\n",
    "    eps *= epsDecay\n",
    "    \n",
    "    while j < maxEpStep-1:\n",
    "        j += 1\n",
    "        # Choose action epsilon-greedily (epsilon decreases with number of episodes)\n",
    "        if IS_SLIPPERY:\n",
    "            a = np.argmax(Q[s, :] + np.random.randn(env.action_space.n)*(1./(i+1)))\n",
    "        else:\n",
    "            if np.random.uniform(0, 1, 1) < eps:\n",
    "                a = np.random.randint(0, 3, 1)[0]\n",
    "            else:\n",
    "                a = np.argmax(Q[s, :])\n",
    "         \n",
    "        s1, r, done, info = env.step(a)\n",
    "        \n",
    "        Q[s, a] = Q[s, a] + lr*(r + y*np.max(Q[s1, :]) - Q[s, a])\n",
    "        rTotal += r\n",
    "        s = s1\n",
    "        if done:\n",
    "            break\n",
    "    \n",
    "    rList.append(rTotal)\n",
    "    rMean.append(np.mean(rList))\n",
    "    rWindow.append(np.mean(rList[-1000:]))\n",
    "    if i % update == 0:\n",
    "        print(\"Episode \" + str(i) + \", Average Success Rate: \" + str(rMean[i]) + \", Exploration rate: \" + str(eps))"
   ]
  },
  {
   "cell_type": "markdown",
   "metadata": {},
   "source": [
    "The agent is learning to reach the goal in the environment, but due to the stochasticity of the FrozenLake environment, no optimal solution exists. But it keeps learning and refining the policy."
   ]
  },
  {
   "cell_type": "code",
   "execution_count": 5,
   "metadata": {},
   "outputs": [
    {
     "data": {
      "image/png": "[encoded data removed]",
      "text/plain": [
       "<matplotlib.figure.Figure at 0x7f99450dfb38>"
      ]
     },
     "metadata": {
      "needs_background": "light"
     },
     "output_type": "display_data"
    }
   ],
   "source": [
    "# Plot results.\n",
    "plt.plot(rMean)\n",
    "plt.plot(rWindow)\n",
    "plt.grid()\n",
    "plt.xlabel(\"Episodes\")\n",
    "plt.ylabel(\"Average Reward\")\n",
    "plt.show()"
   ]
  },
  {
   "cell_type": "code",
   "execution_count": 6,
   "metadata": {},
   "outputs": [
    {
     "name": "stdout",
     "output_type": "stream",
     "text": [
      "[[1.76702738e-01 2.73284075e-03 2.65135246e-03 2.81821379e-03]\n",
      " [1.37336535e-04 3.07735586e-04 3.57289021e-04 4.74622981e-02]\n",
      " [3.49855713e-04 1.27687809e-04 5.69998515e-04 3.87877764e-02]\n",
      " [2.65465318e-04 1.38943691e-04 1.21413592e-04 3.70431472e-02]\n",
      " [1.80526438e-01 2.83670097e-04 8.31219301e-04 7.59692520e-04]\n",
      " [0.00000000e+00 0.00000000e+00 0.00000000e+00 0.00000000e+00]\n",
      " [9.61990082e-03 6.61281194e-06 6.31884801e-07 1.02109872e-08]\n",
      " [0.00000000e+00 0.00000000e+00 0.00000000e+00 0.00000000e+00]\n",
      " [2.91875079e-04 2.27291743e-04 5.85165124e-04 2.53167438e-01]\n",
      " [4.47987051e-04 1.46073083e-01 1.57950015e-04 0.00000000e+00]\n",
      " [6.11563731e-02 5.17113689e-05 3.15128266e-05 8.60704569e-05]\n",
      " [0.00000000e+00 0.00000000e+00 0.00000000e+00 0.00000000e+00]\n",
      " [0.00000000e+00 0.00000000e+00 0.00000000e+00 0.00000000e+00]\n",
      " [0.00000000e+00 0.00000000e+00 2.72288565e-01 0.00000000e+00]\n",
      " [0.00000000e+00 0.00000000e+00 0.00000000e+00 8.54030895e-01]\n",
      " [0.00000000e+00 0.00000000e+00 0.00000000e+00 0.00000000e+00]]\n"
     ]
    }
   ],
   "source": [
    "print(Q)"
   ]
  },
  {
   "cell_type": "markdown",
   "metadata": {},
   "source": [
    "#### Learned Policy Evaluation"
   ]
  },
  {
   "cell_type": "code",
   "execution_count": 7,
   "metadata": {},
   "outputs": [
    {
     "name": "stdout",
     "output_type": "stream",
     "text": [
      "Accuracy: 0.595\n"
     ]
    }
   ],
   "source": [
    "rList = []\n",
    "\n",
    "# evaluate learned policy over 1000 episodes\n",
    "for i in range(1000):\n",
    "    s = env.reset()\n",
    "    rAll = 0\n",
    "    d = False\n",
    "    j = 0\n",
    "    \n",
    "    while j < maxEpStep-1:\n",
    "        j += 1\n",
    "        # Choose action greedily with noise\n",
    "        a = np.argmax(Q[s, :])\n",
    "        s1, r, d, info = env.step(a)\n",
    "        rAll += r\n",
    "        s = s1\n",
    "        if d == True:\n",
    "            break\n",
    "    #jList.append(j)\n",
    "    rList.append(rAll)\n",
    "    \n",
    "print(\"Accuracy: \" + str(np.sum(rList)/1000))"
   ]
  },
  {
   "cell_type": "markdown",
   "metadata": {},
   "source": [
    "## Q-Learning with Neural Networks (Q-Network Learning)\n",
    "In order to extend algorithms working on tabular methods to much more complex problems, it is necessary to introduce function approximation. In particular, it is necessary to define an approximator $Q_{\\phi}(s,a)$, where $\\phi$ indicate the weights of the network, for the action-value function $Q(s,a)$. This can be done with a neural network. In this case the network will be super simple, but the concept will help us develop much more complex networks in the future.\n",
    "\n",
    "\n",
    "The network has just one fully connected layer, connecying the input $s$ (a one-hot vector encoding of the state, 16-dimensional) and the output, a 4-dimensional vector representing $Q_{\\phi}(s, a)$. This generates a network with 16$\\times$4 weights, which replace the tabular entries.\n",
    "\n",
    "The update of the network is not the standard Q-Learning anymore, but it is based on backpropagation of the loss function, which is chosen as the squared error: $$L = \\sum_a (Q_{\\phi}(s,a))^2-y(s,a)),$$\n",
    "\n",
    "where $y(s,a)$ is the target, defined in such a way that by minimizing $L$, $Q_{\\phi}(s,a)$ will approach $$y(s,a)=r(s,a)+\\gamma\\max_{a'} Q_{\\phi}(s',a'),$$\n",
    "\n",
    "which is the goal of Q-learning."
   ]
  },
  {
   "cell_type": "code",
   "execution_count": 8,
   "metadata": {},
   "outputs": [
    {
     "name": "stderr",
     "output_type": "stream",
     "text": [
      "/home/federico/.local/lib/python3.6/site-packages/tensorflow/python/framework/dtypes.py:516: FutureWarning: Passing (type, 1) or '1type' as a synonym of type is deprecated; in a future version of numpy, it will be understood as (type, (1,)) / '(1,)type'.\n",
      "  _np_qint8 = np.dtype([(\"qint8\", np.int8, 1)])\n",
      "/home/federico/.local/lib/python3.6/site-packages/tensorflow/python/framework/dtypes.py:517: FutureWarning: Passing (type, 1) or '1type' as a synonym of type is deprecated; in a future version of numpy, it will be understood as (type, (1,)) / '(1,)type'.\n",
      "  _np_quint8 = np.dtype([(\"quint8\", np.uint8, 1)])\n",
      "/home/federico/.local/lib/python3.6/site-packages/tensorflow/python/framework/dtypes.py:518: FutureWarning: Passing (type, 1) or '1type' as a synonym of type is deprecated; in a future version of numpy, it will be understood as (type, (1,)) / '(1,)type'.\n",
      "  _np_qint16 = np.dtype([(\"qint16\", np.int16, 1)])\n",
      "/home/federico/.local/lib/python3.6/site-packages/tensorflow/python/framework/dtypes.py:519: FutureWarning: Passing (type, 1) or '1type' as a synonym of type is deprecated; in a future version of numpy, it will be understood as (type, (1,)) / '(1,)type'.\n",
      "  _np_quint16 = np.dtype([(\"quint16\", np.uint16, 1)])\n",
      "/home/federico/.local/lib/python3.6/site-packages/tensorflow/python/framework/dtypes.py:520: FutureWarning: Passing (type, 1) or '1type' as a synonym of type is deprecated; in a future version of numpy, it will be understood as (type, (1,)) / '(1,)type'.\n",
      "  _np_qint32 = np.dtype([(\"qint32\", np.int32, 1)])\n",
      "/home/federico/.local/lib/python3.6/site-packages/tensorflow/python/framework/dtypes.py:525: FutureWarning: Passing (type, 1) or '1type' as a synonym of type is deprecated; in a future version of numpy, it will be understood as (type, (1,)) / '(1,)type'.\n",
      "  np_resource = np.dtype([(\"resource\", np.ubyte, 1)])\n",
      "/home/federico/.local/lib/python3.6/site-packages/tensorboard/compat/tensorflow_stub/dtypes.py:541: FutureWarning: Passing (type, 1) or '1type' as a synonym of type is deprecated; in a future version of numpy, it will be understood as (type, (1,)) / '(1,)type'.\n",
      "  _np_qint8 = np.dtype([(\"qint8\", np.int8, 1)])\n",
      "/home/federico/.local/lib/python3.6/site-packages/tensorboard/compat/tensorflow_stub/dtypes.py:542: FutureWarning: Passing (type, 1) or '1type' as a synonym of type is deprecated; in a future version of numpy, it will be understood as (type, (1,)) / '(1,)type'.\n",
      "  _np_quint8 = np.dtype([(\"quint8\", np.uint8, 1)])\n",
      "/home/federico/.local/lib/python3.6/site-packages/tensorboard/compat/tensorflow_stub/dtypes.py:543: FutureWarning: Passing (type, 1) or '1type' as a synonym of type is deprecated; in a future version of numpy, it will be understood as (type, (1,)) / '(1,)type'.\n",
      "  _np_qint16 = np.dtype([(\"qint16\", np.int16, 1)])\n",
      "/home/federico/.local/lib/python3.6/site-packages/tensorboard/compat/tensorflow_stub/dtypes.py:544: FutureWarning: Passing (type, 1) or '1type' as a synonym of type is deprecated; in a future version of numpy, it will be understood as (type, (1,)) / '(1,)type'.\n",
      "  _np_quint16 = np.dtype([(\"quint16\", np.uint16, 1)])\n",
      "/home/federico/.local/lib/python3.6/site-packages/tensorboard/compat/tensorflow_stub/dtypes.py:545: FutureWarning: Passing (type, 1) or '1type' as a synonym of type is deprecated; in a future version of numpy, it will be understood as (type, (1,)) / '(1,)type'.\n",
      "  _np_qint32 = np.dtype([(\"qint32\", np.int32, 1)])\n",
      "/home/federico/.local/lib/python3.6/site-packages/tensorboard/compat/tensorflow_stub/dtypes.py:550: FutureWarning: Passing (type, 1) or '1type' as a synonym of type is deprecated; in a future version of numpy, it will be understood as (type, (1,)) / '(1,)type'.\n",
      "  np_resource = np.dtype([(\"resource\", np.ubyte, 1)])\n"
     ]
    }
   ],
   "source": [
    "import random\n",
    "import tensorflow as tf\n",
    "    \n",
    "tf.reset_default_graph() \n",
    "\n",
    "class Qnet():\n",
    "    def __init__(self):\n",
    "        self.inputs1 = tf.placeholder(shape=[None, 16], dtype=tf.float32)\n",
    "        self.W = tf.Variable(tf.random_uniform([16,4], 0, 0.01))\n",
    "        self.Qout = tf.matmul(self.inputs1, self.W)\n",
    "        self.predict = tf.argmax(self.Qout, 1)\n",
    "        self.targetQ = tf.placeholder(shape=[None, 4], dtype=tf.float32)\n",
    "        self.loss = tf.reduce_sum(tf.square(self.targetQ - self.Qout))\n",
    "        self.updateModel = tf.train.GradientDescentOptimizer(learning_rate=0.1).minimize(self.loss)\n",
    "    "
   ]
  },
  {
   "cell_type": "code",
   "execution_count": 9,
   "metadata": {},
   "outputs": [
    {
     "name": "stdout",
     "output_type": "stream",
     "text": [
      "Episode: 0, average reward: 0.0\n",
      "Episode: 1000, average reward: 0.32967032967032966\n",
      "Episode: 2000, average reward: 0.42278860569715143\n",
      "Episode: 3000, average reward: 0.48817060979673443\n",
      "Episode: 4000, average reward: 0.5266183454136466\n",
      "Episode: 5000, average reward: 0.5576884623075385\n",
      "Episode: 6000, average reward: 0.5762372937843693\n",
      "Episode: 7000, average reward: 0.5924867876017712\n",
      "Episode: 8000, average reward: 0.6011748531433571\n",
      "Episode: 9000, average reward: 0.6093767359182313\n",
      "Episode: 10000, average reward: 0.6166383361663834\n",
      "Episode: 11000, average reward: 0.6233978729206435\n",
      "Episode: 12000, average reward: 0.6287809349220899\n",
      "Episode: 13000, average reward: 0.6350280747634798\n",
      "Episode: 14000, average reward: 0.6387400899935719\n",
      "Episode: 15000, average reward: 0.6424905006332912\n",
      "Episode: 16000, average reward: 0.6453971626773327\n",
      "Episode: 17000, average reward: 0.6496676666078466\n",
      "Episode: 18000, average reward: 0.6516304649741681\n",
      "Episode: 19000, average reward: 0.6532287774327667\n",
      "Episode: 20000, average reward: 0.655567221638918\n",
      "Episode: 21000, average reward: 0.6581115184991191\n",
      "Episode: 22000, average reward: 0.6590609517749193\n",
      "Episode: 23000, average reward: 0.660058258336594\n",
      "Episode: 24000, average reward: 0.6617640931627848\n",
      "Episode: 25000, average reward: 0.6638934442622295\n",
      "Episode: 26000, average reward: 0.6649359640013845\n",
      "Episode: 27000, average reward: 0.6663827265656828\n",
      "Episode: 28000, average reward: 0.6674047355451591\n",
      "Episode: 29000, average reward: 0.6696320816523568\n",
      "Episode: 30000, average reward: 0.6713442885237159\n",
      "Episode: 31000, average reward: 0.6727202348311345\n",
      "Episode: 32000, average reward: 0.6747289147214149\n",
      "Episode: 33000, average reward: 0.6754037756431623\n",
      "Episode: 34000, average reward: 0.6771271433193141\n",
      "Episode: 35000, average reward: 0.6790377417788063\n",
      "Episode: 36000, average reward: 0.6801755506791478\n",
      "Episode: 37000, average reward: 0.6815491473203427\n",
      "Episode: 38000, average reward: 0.6826662456251151\n",
      "Episode: 39000, average reward: 0.683341452783262\n",
      "Episode: 40000, average reward: 0.6846828829279268\n",
      "Episode: 41000, average reward: 0.6854466964220385\n",
      "Episode: 42000, average reward: 0.6859836670555463\n",
      "Episode: 43000, average reward: 0.6867747261691589\n",
      "Episode: 44000, average reward: 0.6866434853753324\n",
      "Episode: 45000, average reward: 0.6872291726850515\n",
      "Episode: 46000, average reward: 0.6877024412512771\n",
      "Episode: 47000, average reward: 0.688495989447033\n",
      "Episode: 48000, average reward: 0.6891731422262036\n",
      "Episode: 49000, average reward: 0.6895165404787658\n",
      "Rate of successful episodes: 0.69034\n"
     ]
    }
   ],
   "source": [
    "# Train the network\n",
    "\n",
    "DQN = Qnet()\n",
    "init = tf.global_variables_initializer()\n",
    "\n",
    "y = 0.99\n",
    "e = 0.1\n",
    "# num_episodes = 2000\n",
    "\n",
    "jList = []\n",
    "rList_net = []\n",
    "meanReward_net = []\n",
    "\n",
    "with tf.Session() as sess:\n",
    "    sess.run(init)\n",
    "#     print(sess.run(DQN.Qout, feed_dict={DQN.inputs1: np.identity(16)[0:1]}))\n",
    "    for i in range(numEpisodes):\n",
    "        s = env.reset()\n",
    "        totalReward = 0\n",
    "        done = False\n",
    "        j = 1\n",
    "        while j < 99:\n",
    "            j += 1\n",
    "            \n",
    "            # e-greedy action\n",
    "            a, allQ = sess.run([DQN.predict, DQN.Qout], feed_dict={DQN.inputs1: np.identity(16)[s:s+1]})\n",
    "            if np.random.rand(1) < e:\n",
    "                a[0] = env.action_space.sample()\n",
    "                \n",
    "            s1, r, done, info = env.step(a[0])\n",
    "            Q1 = sess.run(DQN.Qout, feed_dict={DQN.inputs1: np.identity(16)[s1:s1+1]})\n",
    "            maxQ1 = np.max(Q1)\n",
    "            targetQ = allQ\n",
    "            targetQ[0, a[0]] = r + y*maxQ1\n",
    "            _ = sess.run(DQN.updateModel, feed_dict={DQN.inputs1: np.identity(16)[s:s+1], DQN.targetQ: targetQ})\n",
    "            totalReward += r\n",
    "            \n",
    "            s = s1\n",
    "            if done:\n",
    "                e = 1./((i/50) + 10)\n",
    "                break\n",
    "\n",
    "        jList.append(j)\n",
    "        rList_net.append(totalReward)\n",
    "        meanReward_net.append(np.sum(rList_net)/(i+1))\n",
    "        if i % update == 0:\n",
    "            print(\"Episode: \" + str(i) + \", average reward: \" + str(meanReward_net[i]))\n",
    "#             print(Q1)\n",
    "\n",
    "print(\"Rate of successful episodes: \" + str(sum(rList_net)/numEpisodes))"
   ]
  },
  {
   "cell_type": "code",
   "execution_count": null,
   "metadata": {},
   "outputs": [],
   "source": [
    "plt.plot(rMean, 'r', label=\"Tabular\")\n",
    "plt.plot(meanReward_net, 'b', label=\"DQN\")\n",
    "plt.grid()\n",
    "plt.xlabel(\"Episodes\")\n",
    "plt.ylabel(\"Average Reward\")\n",
    "plt.show()"
   ]
  },
  {
   "cell_type": "markdown",
   "metadata": {},
   "source": [
    "After about 1000 episodes the network starts to learn the correct path. Even if the network is the simplest network possible and there is no Experience Replay, Batch Training and target networks, it converges to a solution really close to the one found with the tabular solution."
   ]
  }
 ],
 "metadata": {
  "kernelspec": {
   "display_name": "Python 3",
   "language": "python",
   "name": "python3"
  },
  "language_info": {
   "codemirror_mode": {
    "name": "ipython",
    "version": 3
   },
   "file_extension": ".py",
   "mimetype": "text/x-python",
   "name": "python",
   "nbconvert_exporter": "python",
   "pygments_lexer": "ipython3",
   "version": "3.6.9"
  }
 },
 "nbformat": 4,
 "nbformat_minor": 1
}
