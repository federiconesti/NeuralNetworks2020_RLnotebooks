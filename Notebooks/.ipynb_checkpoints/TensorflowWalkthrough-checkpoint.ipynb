{
 "cells": [
  {
   "cell_type": "markdown",
   "metadata": {},
   "source": [
    "# Tensorflow 1.x Walkthrough\n",
    "\n",
    "In this notebook we are going to use the main features of Tensorflow 1.x to train and test networks from scratch.\n",
    "Tensorflow 1.x is going to be replaced by Tensorflow 2.0. The 2.0 is already out, but has some speed issues when coming to the CPU execution. \n"
   ]
  },
  {
   "cell_type": "code",
   "execution_count": 1,
   "metadata": {
    "scrolled": true
   },
   "outputs": [
    {
     "name": "stderr",
     "output_type": "stream",
     "text": [
      "/home/federico/PycharmProjects/SLIDES_material/Notebooks/venv/lib/python3.6/site-packages/tensorflow/python/framework/dtypes.py:516: FutureWarning: Passing (type, 1) or '1type' as a synonym of type is deprecated; in a future version of numpy, it will be understood as (type, (1,)) / '(1,)type'.\n",
      "  _np_qint8 = np.dtype([(\"qint8\", np.int8, 1)])\n",
      "/home/federico/PycharmProjects/SLIDES_material/Notebooks/venv/lib/python3.6/site-packages/tensorflow/python/framework/dtypes.py:517: FutureWarning: Passing (type, 1) or '1type' as a synonym of type is deprecated; in a future version of numpy, it will be understood as (type, (1,)) / '(1,)type'.\n",
      "  _np_quint8 = np.dtype([(\"quint8\", np.uint8, 1)])\n",
      "/home/federico/PycharmProjects/SLIDES_material/Notebooks/venv/lib/python3.6/site-packages/tensorflow/python/framework/dtypes.py:518: FutureWarning: Passing (type, 1) or '1type' as a synonym of type is deprecated; in a future version of numpy, it will be understood as (type, (1,)) / '(1,)type'.\n",
      "  _np_qint16 = np.dtype([(\"qint16\", np.int16, 1)])\n",
      "/home/federico/PycharmProjects/SLIDES_material/Notebooks/venv/lib/python3.6/site-packages/tensorflow/python/framework/dtypes.py:519: FutureWarning: Passing (type, 1) or '1type' as a synonym of type is deprecated; in a future version of numpy, it will be understood as (type, (1,)) / '(1,)type'.\n",
      "  _np_quint16 = np.dtype([(\"quint16\", np.uint16, 1)])\n",
      "/home/federico/PycharmProjects/SLIDES_material/Notebooks/venv/lib/python3.6/site-packages/tensorflow/python/framework/dtypes.py:520: FutureWarning: Passing (type, 1) or '1type' as a synonym of type is deprecated; in a future version of numpy, it will be understood as (type, (1,)) / '(1,)type'.\n",
      "  _np_qint32 = np.dtype([(\"qint32\", np.int32, 1)])\n",
      "/home/federico/PycharmProjects/SLIDES_material/Notebooks/venv/lib/python3.6/site-packages/tensorflow/python/framework/dtypes.py:525: FutureWarning: Passing (type, 1) or '1type' as a synonym of type is deprecated; in a future version of numpy, it will be understood as (type, (1,)) / '(1,)type'.\n",
      "  np_resource = np.dtype([(\"resource\", np.ubyte, 1)])\n",
      "/home/federico/PycharmProjects/SLIDES_material/Notebooks/venv/lib/python3.6/site-packages/tensorboard/compat/tensorflow_stub/dtypes.py:541: FutureWarning: Passing (type, 1) or '1type' as a synonym of type is deprecated; in a future version of numpy, it will be understood as (type, (1,)) / '(1,)type'.\n",
      "  _np_qint8 = np.dtype([(\"qint8\", np.int8, 1)])\n",
      "/home/federico/PycharmProjects/SLIDES_material/Notebooks/venv/lib/python3.6/site-packages/tensorboard/compat/tensorflow_stub/dtypes.py:542: FutureWarning: Passing (type, 1) or '1type' as a synonym of type is deprecated; in a future version of numpy, it will be understood as (type, (1,)) / '(1,)type'.\n",
      "  _np_quint8 = np.dtype([(\"quint8\", np.uint8, 1)])\n",
      "/home/federico/PycharmProjects/SLIDES_material/Notebooks/venv/lib/python3.6/site-packages/tensorboard/compat/tensorflow_stub/dtypes.py:543: FutureWarning: Passing (type, 1) or '1type' as a synonym of type is deprecated; in a future version of numpy, it will be understood as (type, (1,)) / '(1,)type'.\n",
      "  _np_qint16 = np.dtype([(\"qint16\", np.int16, 1)])\n",
      "/home/federico/PycharmProjects/SLIDES_material/Notebooks/venv/lib/python3.6/site-packages/tensorboard/compat/tensorflow_stub/dtypes.py:544: FutureWarning: Passing (type, 1) or '1type' as a synonym of type is deprecated; in a future version of numpy, it will be understood as (type, (1,)) / '(1,)type'.\n",
      "  _np_quint16 = np.dtype([(\"quint16\", np.uint16, 1)])\n",
      "/home/federico/PycharmProjects/SLIDES_material/Notebooks/venv/lib/python3.6/site-packages/tensorboard/compat/tensorflow_stub/dtypes.py:545: FutureWarning: Passing (type, 1) or '1type' as a synonym of type is deprecated; in a future version of numpy, it will be understood as (type, (1,)) / '(1,)type'.\n",
      "  _np_qint32 = np.dtype([(\"qint32\", np.int32, 1)])\n",
      "/home/federico/PycharmProjects/SLIDES_material/Notebooks/venv/lib/python3.6/site-packages/tensorboard/compat/tensorflow_stub/dtypes.py:550: FutureWarning: Passing (type, 1) or '1type' as a synonym of type is deprecated; in a future version of numpy, it will be understood as (type, (1,)) / '(1,)type'.\n",
      "  np_resource = np.dtype([(\"resource\", np.ubyte, 1)])\n"
     ]
    }
   ],
   "source": [
    "import os\n",
    "# Disable Tensorflow Warnings\n",
    "os.environ['TF_CPP_MIN_LOG_LEVEL'] = '3'\n",
    "import tensorflow as tf\n",
    "from tensorflow.examples.tutorials.mnist import input_data\n",
    "import numpy as np\n",
    "import matplotlib.pyplot as plt\n",
    "%matplotlib inline"
   ]
  },
  {
   "cell_type": "markdown",
   "metadata": {},
   "source": [
    "Let's start with data processing. Tensorflow makes the main datasets available for instant import."
   ]
  },
  {
   "cell_type": "code",
   "execution_count": 2,
   "metadata": {},
   "outputs": [
    {
     "name": "stdout",
     "output_type": "stream",
     "text": [
      "WARNING:tensorflow:From <ipython-input-2-0eed053d7ce3>:1: read_data_sets (from tensorflow.contrib.learn.python.learn.datasets.mnist) is deprecated and will be removed in a future version.\n",
      "Instructions for updating:\n",
      "Please use alternatives such as official/mnist/dataset.py from tensorflow/models.\n",
      "WARNING:tensorflow:From /home/federico/PycharmProjects/SLIDES_material/Notebooks/venv/lib/python3.6/site-packages/tensorflow/contrib/learn/python/learn/datasets/mnist.py:260: maybe_download (from tensorflow.contrib.learn.python.learn.datasets.base) is deprecated and will be removed in a future version.\n",
      "Instructions for updating:\n",
      "Please write your own downloading logic.\n",
      "WARNING:tensorflow:From /home/federico/PycharmProjects/SLIDES_material/Notebooks/venv/lib/python3.6/site-packages/tensorflow/contrib/learn/python/learn/datasets/mnist.py:262: extract_images (from tensorflow.contrib.learn.python.learn.datasets.mnist) is deprecated and will be removed in a future version.\n",
      "Instructions for updating:\n",
      "Please use tf.data to implement this functionality.\n",
      "Extracting MNIST_data/train-images-idx3-ubyte.gz\n",
      "WARNING:tensorflow:From /home/federico/PycharmProjects/SLIDES_material/Notebooks/venv/lib/python3.6/site-packages/tensorflow/contrib/learn/python/learn/datasets/mnist.py:267: extract_labels (from tensorflow.contrib.learn.python.learn.datasets.mnist) is deprecated and will be removed in a future version.\n",
      "Instructions for updating:\n",
      "Please use tf.data to implement this functionality.\n",
      "Extracting MNIST_data/train-labels-idx1-ubyte.gz\n",
      "WARNING:tensorflow:From /home/federico/PycharmProjects/SLIDES_material/Notebooks/venv/lib/python3.6/site-packages/tensorflow/contrib/learn/python/learn/datasets/mnist.py:110: dense_to_one_hot (from tensorflow.contrib.learn.python.learn.datasets.mnist) is deprecated and will be removed in a future version.\n",
      "Instructions for updating:\n",
      "Please use tf.one_hot on tensors.\n",
      "Extracting MNIST_data/t10k-images-idx3-ubyte.gz\n",
      "Extracting MNIST_data/t10k-labels-idx1-ubyte.gz\n",
      "WARNING:tensorflow:From /home/federico/PycharmProjects/SLIDES_material/Notebooks/venv/lib/python3.6/site-packages/tensorflow/contrib/learn/python/learn/datasets/mnist.py:290: DataSet.__init__ (from tensorflow.contrib.learn.python.learn.datasets.mnist) is deprecated and will be removed in a future version.\n",
      "Instructions for updating:\n",
      "Please use alternatives such as official/mnist/dataset.py from tensorflow/models.\n",
      "(55000, 784) (55000, 10)\n",
      "(10000, 784) (10000, 10)\n"
     ]
    }
   ],
   "source": [
    "mnist = input_data.read_data_sets(\"MNIST_data/\", one_hot=True)\n",
    "n_train = mnist.train.num_examples\n",
    "n_validation = mnist.validation.num_examples\n",
    "n_test = mnist.test.num_examples\n",
    "\n",
    "x_train, y_train = mnist.train.next_batch(n_train)\n",
    "x_test, y_test = mnist.test.next_batch(n_test)\n",
    "\n",
    "print(x_train.shape, y_train.shape)\n",
    "print(x_test.shape, y_test.shape)"
   ]
  },
  {
   "cell_type": "markdown",
   "metadata": {},
   "source": [
    "### Shallow Neural Network model\n",
    "Let's define a shallow NN model, through a class. Note that the network is initialized by calling a chain of Tensorflow Operations, that build the **Computational Graph**. A set of **Variables** and a **Placeholder** is declared."
   ]
  },
  {
   "cell_type": "code",
   "execution_count": 3,
   "metadata": {},
   "outputs": [],
   "source": [
    "class ShallowNN():\n",
    "    def __init__(self, input_dim, output_dim, H=32, lr=0.001, save_summary=False, name=\"NN\"):\n",
    "        self.input_dim = input_dim\n",
    "        self.output_dim = output_dim\n",
    "        self.lr = lr\n",
    "        self.H = H\n",
    "        self.name = name\n",
    "        \n",
    "        # Build graph, declare session and initialize variables\n",
    "        self._build_net()\n",
    "        self.sess = tf.Session()\n",
    "        self.sess.run(tf.global_variables_initializer())\n",
    "        \n",
    "        self.saver = tf.train.Saver()\n",
    "        \n",
    "        # Tensorboard (not available on Jupyter Notebooks)\n",
    "        self.save_summary = save_summary\n",
    "        if self.save_summary:\n",
    "            self.writer = tf.summary.FileWriter(\"log_\" + self.name, self.sess.graph)\n",
    "    \n",
    "    def _build_net(self):\n",
    "        \"\"\"\n",
    "        tf.name/variable_scope (depending on the presence of variables) \n",
    "        encapsulates the operations in a high-level structure, which \n",
    "        helps debugging on TensorBoard.\n",
    "        \"\"\"\n",
    "        with tf.name_scope(\"inputs\"):\n",
    "            \"\"\" \n",
    "            First Shape is ALWAYS Batch Size, which is None.\n",
    "            This means that that dimension is unknown until\n",
    "            a Session() object is used to evaluate the actual values.            \n",
    "            \"\"\"\n",
    "            self.inputs = tf.placeholder(shape=(None, self.input_dim), dtype=tf.float32)\n",
    "        self.targets = tf.placeholder(shape=(None, self.output_dim), dtype=tf.int32)\n",
    "\n",
    "        with tf.variable_scope(\"layer1\"):\n",
    "            # Definition of Weights and Biases as variables.\n",
    "            self.W1 = tf.get_variable(\"W1\", shape=[self.input_dim, self.H], initializer=tf.contrib.layers.xavier_initializer())\n",
    "            self.B1 = tf.Variable(tf.zeros([self.H]), name=\"B1\")\n",
    "            self.layer1 = tf.nn.sigmoid(tf.matmul(self.inputs, self.W1) + self.B1)\n",
    "        with tf.variable_scope(\"layer2\"):\n",
    "            self.W2 = tf.get_variable(\"W2\", shape=[self.H, self.output_dim], initializer=tf.contrib.layers.xavier_initializer())\n",
    "            self.B2 = tf.Variable(tf.zeros([self.output_dim]), name=\"B2\")\n",
    "            self.output = tf.matmul(self.layer1, self.W2) + self.B2\n",
    "        \n",
    "        # Predicted class is the one with maximum output value.\n",
    "        self.prediction = tf.argmax(self.output, 1)\n",
    "        self.correct_prediction = tf.equal(self.prediction, tf.argmax(self.targets, 1))\n",
    "        with tf.name_scope(\"Accuracy\"):\n",
    "            self.accuracy = tf.reduce_mean(tf.cast(self.correct_prediction, \"float\"))\n",
    "        \n",
    "        # Define loss and optimizer. \n",
    "        self.loss = tf.reduce_mean(tf.nn.softmax_cross_entropy_with_logits(logits=self.output, labels=self.targets))\n",
    "        self.optimizer = tf.train.AdamOptimizer(learning_rate=self.lr).minimize(self.loss)\n",
    "        \n",
    "    # Train the network for an epoch\n",
    "    def train_step(self, trainX, trainY, batch_size):\n",
    "        avg_loss = 0.\n",
    "        avg_acc = 0.\n",
    "        total_batch = trainX.shape[0] // batch_size\n",
    "        x_batches = np.array_split(trainX, total_batch)\n",
    "        y_batches = np.array_split(trainY, total_batch)\n",
    "\n",
    "        for i in range(total_batch):\n",
    "            batch_x, batch_y = x_batches[i], y_batches[i]\n",
    "            _, l, acc = self.sess.run([self.optimizer, self.loss, self.accuracy],\n",
    "                                             feed_dict={self.inputs: batch_x, self.targets: batch_y})\n",
    "            avg_loss += l / total_batch\n",
    "            avg_acc += acc / total_batch\n",
    "        return avg_loss, avg_acc\n",
    "    \n",
    "    def predict(self, testX):\n",
    "        return self.sess.run(self.prediction, feed_dict={self.inputs: testX})\n",
    "    \n",
    "    def save(self, name):\n",
    "        self.saver.save(self.sess, name)\n",
    "    \n",
    "    def load(self, name):\n",
    "        self.saver.restore(self.sess, name)"
   ]
  },
  {
   "cell_type": "markdown",
   "metadata": {},
   "source": [
    "## Tensors\n",
    "Tensors are the multi-dimensional matricial objects that are usually manipulated in TensorFlow scripts. They are only partially-defined, because before evaluating (or assigning a value) a Tensor, a chain of Operations on that Tensor must be defined.\n",
    "\n",
    "## Computational Graph (Tensorboard)\n",
    "Tensorflow computations are based on a computational graph, which is static and defined usually at the beginning of the script (in this case, it is encapsulated in a class). It can be built through the definition of a chain of Tensorflow Operations (tf.Ops) on Tensors. \n",
    "In this case, no actual operation is defined until a variable of type ShallowNN is instantiated, and no actual computation is performed until a Session object is used. \n",
    "Tensorboard is Tensorflow's debug tool, which allows to explore the graph piece by piece. Once the Writer object has written the summary in the selected directory (e.g., \"logdir\"), to explore the graph is sufficient to write \"tensorboard --logdir=log_dir\" in a terminal *[NOT WORKING IN JUPYTER NOTEBOOKS]*\n",
    "\n",
    "## Session\n",
    "A Session object encapsulates the environment in which Operations are executed and Tensors evaluated. A Session can be used to perform actual computations, by assigning values to the Tensors with the command sess.run, whose arguments are the quantity to be evaluated and feed_dict, that is a dictionary containing the numerical values of all the placeholders required for that computations. For instance, to perform a prediction, only the value of the input is required, while for training the numerical value of the label is required as well.\n",
    "\n",
    "## Placeholders\n",
    "Placeholders are Tensors with a shape and a type that can assume any value at runtime. Placeholders are usually inputs.\n",
    "\n",
    "## Variables\n",
    "Variables are trainable Tensors, that can be modified at run-time. They are usually the weights and biases of the networks.\n"
   ]
  },
  {
   "cell_type": "markdown",
   "metadata": {},
   "source": [
    "# Build Model and Train Network"
   ]
  },
  {
   "cell_type": "code",
   "execution_count": 4,
   "metadata": {},
   "outputs": [
    {
     "name": "stdout",
     "output_type": "stream",
     "text": [
      "WARNING:tensorflow:From <ipython-input-3-0fad341e4d0a>:53: softmax_cross_entropy_with_logits (from tensorflow.python.ops.nn_ops) is deprecated and will be removed in a future version.\n",
      "Instructions for updating:\n",
      "\n",
      "Future major versions of TensorFlow will allow gradients to flow\n",
      "into the labels input on backprop by default.\n",
      "\n",
      "See `tf.nn.softmax_cross_entropy_with_logits_v2`.\n",
      "\n"
     ]
    }
   ],
   "source": [
    "n_epochs = 50\n",
    "batch_size = 64\n",
    "\n",
    "# Until the declaration of a ShallowNN variable, NO GRAPH IS CREATED.\n",
    "NN = ShallowNN(28*28, 10, H=32, lr=0.001, save_summary=True)"
   ]
  },
  {
   "cell_type": "code",
   "execution_count": 5,
   "metadata": {},
   "outputs": [
    {
     "name": "stdout",
     "output_type": "stream",
     "text": [
      "Predicted: 5, Actual: 6\n",
      "Test Set Accuracy: 0.0939\n"
     ]
    },
    {
     "data": {
      "image/png": "[encoded data removed]",
      "text/plain": [
       "<matplotlib.figure.Figure at 0x7f7b109d3c50>"
      ]
     },
     "metadata": {
      "needs_background": "light"
     },
     "output_type": "display_data"
    }
   ],
   "source": [
    "# Network is not trained: it classifies digits almost randomly.\n",
    "sample_x, sample_y = mnist.test.next_batch(1)\n",
    "prediction = NN.sess.run(NN.prediction, feed_dict={NN.inputs: sample_x})\n",
    "\n",
    "plt.imshow(sample_x[0].reshape((28,28)), cmap='gray')\n",
    "print(\"Predicted: \" + str(prediction[0]) + \", Actual: \" + str(np.argmax(sample_y[0])))\n",
    "print(\"Test Set Accuracy: \" + str(NN.sess.run(NN.accuracy, feed_dict={NN.inputs: x_test, NN.targets: y_test})))"
   ]
  },
  {
   "cell_type": "code",
   "execution_count": 6,
   "metadata": {},
   "outputs": [
    {
     "name": "stdout",
     "output_type": "stream",
     "text": [
      "Epoch: 0001 loss:  0.784970902 , accuracy:  0.82794\n",
      "Epoch: 0002 loss:  0.324009579 , accuracy:  0.91548\n",
      "Epoch: 0003 loss:  0.253799847 , accuracy:  0.93029\n",
      "Epoch: 0004 loss:  0.218087088 , accuracy:  0.93938\n",
      "Epoch: 0005 loss:  0.194500775 , accuracy:  0.94611\n",
      "Epoch: 0006 loss:  0.177024980 , accuracy:  0.95055\n",
      "Epoch: 0007 loss:  0.163243911 , accuracy:  0.95418\n",
      "Epoch: 0008 loss:  0.151928518 , accuracy:  0.95742\n",
      "Epoch: 0009 loss:  0.142364439 , accuracy:  0.96004\n",
      "Epoch: 0010 loss:  0.134123253 , accuracy:  0.96238\n",
      "Epoch: 0011 loss:  0.126915991 , accuracy:  0.96422\n",
      "Epoch: 0012 loss:  0.120527745 , accuracy:  0.96593\n",
      "Epoch: 0013 loss:  0.114803123 , accuracy:  0.96756\n",
      "Epoch: 0014 loss:  0.109630482 , accuracy:  0.96878\n",
      "Epoch: 0015 loss:  0.104924250 , accuracy:  0.97020\n",
      "Epoch: 0016 loss:  0.100613349 , accuracy:  0.97173\n",
      "Epoch: 0017 loss:  0.096637859 , accuracy:  0.97289\n",
      "Epoch: 0018 loss:  0.092949130 , accuracy:  0.97415\n",
      "Epoch: 0019 loss:  0.089508732 , accuracy:  0.97527\n",
      "Epoch: 0020 loss:  0.086286615 , accuracy:  0.97642\n",
      "Epoch: 0021 loss:  0.083257507 , accuracy:  0.97771\n",
      "Epoch: 0022 loss:  0.080399492 , accuracy:  0.97853\n",
      "Epoch: 0023 loss:  0.077694355 , accuracy:  0.97900\n",
      "Epoch: 0024 loss:  0.075126943 , accuracy:  0.97977\n",
      "Epoch: 0025 loss:  0.072684175 , accuracy:  0.98051\n",
      "Epoch: 0026 loss:  0.070355031 , accuracy:  0.98120\n",
      "Epoch: 0027 loss:  0.068130135 , accuracy:  0.98189\n",
      "Epoch: 0028 loss:  0.066001112 , accuracy:  0.98264\n",
      "Epoch: 0029 loss:  0.063960513 , accuracy:  0.98338\n",
      "Epoch: 0030 loss:  0.062001566 , accuracy:  0.98396\n",
      "Epoch: 0031 loss:  0.060118029 , accuracy:  0.98446\n",
      "Epoch: 0032 loss:  0.058304492 , accuracy:  0.98509\n",
      "Epoch: 0033 loss:  0.056556997 , accuracy:  0.98546\n",
      "Epoch: 0034 loss:  0.054873014 , accuracy:  0.98589\n",
      "Epoch: 0035 loss:  0.053249924 , accuracy:  0.98644\n",
      "Epoch: 0036 loss:  0.051684851 , accuracy:  0.98691\n",
      "Epoch: 0037 loss:  0.050175249 , accuracy:  0.98756\n",
      "Epoch: 0038 loss:  0.048718356 , accuracy:  0.98809\n",
      "Epoch: 0039 loss:  0.047310964 , accuracy:  0.98856\n",
      "Epoch: 0040 loss:  0.045949828 , accuracy:  0.98891\n",
      "Epoch: 0041 loss:  0.044631956 , accuracy:  0.98933\n",
      "Epoch: 0042 loss:  0.043354547 , accuracy:  0.98993\n",
      "Epoch: 0043 loss:  0.042114998 , accuracy:  0.99031\n",
      "Epoch: 0044 loss:  0.040911789 , accuracy:  0.99067\n",
      "Epoch: 0045 loss:  0.039745205 , accuracy:  0.99097\n",
      "Epoch: 0046 loss:  0.038615101 , accuracy:  0.99153\n",
      "Epoch: 0047 loss:  0.037519634 , accuracy:  0.99204\n",
      "Epoch: 0048 loss:  0.036456898 , accuracy:  0.99242\n",
      "Epoch: 0049 loss:  0.035425380 , accuracy:  0.99271\n",
      "Epoch: 0050 loss:  0.034423670 , accuracy:  0.99307\n"
     ]
    },
    {
     "data": {
      "text/plain": [
       "[<matplotlib.lines.Line2D at 0x7f7aaf5b9710>]"
      ]
     },
     "execution_count": 6,
     "metadata": {},
     "output_type": "execute_result"
    },
    {
     "data": {
      "image/png": "[encoded data removed]",
      "text/plain": [
       "<matplotlib.figure.Figure at 0x7f7b109d3f60>"
      ]
     },
     "metadata": {
      "needs_background": "light"
     },
     "output_type": "display_data"
    }
   ],
   "source": [
    "avg_loss_list = []\n",
    "avg_acc_list = []\n",
    "for epoch in range(n_epochs):\n",
    "    \n",
    "    avg_loss, avg_acc = NN.train_step(x_train, y_train, batch_size)\n",
    "    print(\"Epoch:\", '%04d' % (epoch + 1), \"loss: \", \"{:.9f}\".format(avg_loss),\n",
    "              \", accuracy: \", \"{:.5f}\".format(avg_acc))\n",
    "    avg_loss_list.append(avg_loss)\n",
    "    avg_acc_list.append(avg_acc)\n",
    "    \n",
    "import matplotlib.pyplot as plt\n",
    "%matplotlib inline\n",
    "plt.plot(avg_loss_list)\n",
    "plt.plot(avg_acc_list)"
   ]
  },
  {
   "cell_type": "markdown",
   "metadata": {},
   "source": [
    "## Test set Accuracy Evaluation"
   ]
  },
  {
   "cell_type": "code",
   "execution_count": 20,
   "metadata": {},
   "outputs": [
    {
     "name": "stdout",
     "output_type": "stream",
     "text": [
      "Predicted: 8, Actual: 8\n",
      "Test Set Accuracy: 0.9617\n"
     ]
    },
    {
     "data": {
      "image/png": "[encoded data removed]",
      "text/plain": [
       "<matplotlib.figure.Figure at 0x7f7aaf156ac8>"
      ]
     },
     "metadata": {
      "needs_background": "light"
     },
     "output_type": "display_data"
    }
   ],
   "source": [
    "# Network is now trained: it classifies digits almost perfectly.\n",
    "sample_x, sample_y = mnist.test.next_batch(1)\n",
    "prediction = NN.sess.run(NN.prediction, feed_dict={NN.inputs: sample_x})\n",
    "plt.imshow(sample_x[0].reshape((28,28)), cmap='gray')\n",
    "print(\"Predicted: \" + str(prediction[0]) + \", Actual: \" + str(np.argmax(sample_y[0])))\n",
    "print(\"Test Set Accuracy: \" + str(NN.sess.run(NN.accuracy, feed_dict={NN.inputs: x_test, NN.targets: y_test})))"
   ]
  }
 ],
 "metadata": {
  "kernelspec": {
   "display_name": "venv",
   "language": "python",
   "name": "venv"
  },
  "language_info": {
   "codemirror_mode": {
    "name": "ipython",
    "version": 3
   },
   "file_extension": ".py",
   "mimetype": "text/x-python",
   "name": "python",
   "nbconvert_exporter": "python",
   "pygments_lexer": "ipython3",
   "version": "3.6.9"
  }
 },
 "nbformat": 4,
 "nbformat_minor": 2
}
