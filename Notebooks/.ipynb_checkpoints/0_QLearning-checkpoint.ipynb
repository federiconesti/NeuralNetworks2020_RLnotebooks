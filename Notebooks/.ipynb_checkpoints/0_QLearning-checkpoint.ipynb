{
 "cells": [
  {
   "cell_type": "markdown",
   "metadata": {
    "collapsed": true
   },
   "source": [
    "# Reinforcement Learning: Tabular and simple network Q-Learning"
   ]
  },
  {
   "cell_type": "markdown",
   "metadata": {},
   "source": [
    "This is the first notebook of a series on Reinforcement Learning. The framework used is OpenAI Gym, a set of out-of-the-box environments, from the simple Grid World to complex robotics tasks such as object manipulation. It also includes a very long list of Atari games.\n",
    "\n",
    "OpenAI gym (pip install gym) is a very useful tool to test, develop and compare Reinforcement Learning algorithms without going crazy modeling environments that most of the time have problems. "
   ]
  },
  {
   "cell_type": "code",
   "execution_count": 1,
   "metadata": {},
   "outputs": [],
   "source": [
    "import gym\n",
    "import numpy as np\n",
    "import matplotlib.pyplot as plt\n",
    "%matplotlib inline"
   ]
  },
  {
   "cell_type": "markdown",
   "metadata": {},
   "source": [
    "Importing `gym` module is enough to load all the classes needed. `gym.make(environment)` is the command to load a specific `Env` class. An `Env` class has everything that we would expect from an environment: \n",
    "* **Observation Space** and **Action Space**: are described by the class `Space`, and can be of the type `Discrete(n)` (a single action to be chosen among n alternatives) or of the type `Box(n,)` (continuous space, with high and low bounds). Refer to [OpenAI Gym documentation](https://gym.openai.com/docs/).\n",
    "\n",
    "Environments also have three fundamental methods:\n",
    "* **`s = env.reset()`**: resets the environment, returning the initial observation;\n",
    "* **`env.render()`**: renders the environment. Depending on the environment, it could print on the terminal or make a window pop out;\n",
    "* **`s', r, d, i = env.step(action)`**: this command is the equivalent of a RL agent loop. It performs action a, observes reward r and state s'. `step` returns (`observation`, `reward`, `done`, `info`)."
   ]
  },
  {
   "cell_type": "markdown",
   "metadata": {},
   "source": [
    "## Frozen Lake (aka GridWorld)\n",
    "`FrozenLake-v0' is a 4x4 GridWorld environment. It is a MDP 16 states, which can be S (start), F (frozen), H (hole, terminates episode) and G (goal). The actions available are 4 (up, down, left, right), but the ice can be made slippery. It that case, the agent will not always move in the direction it wants: the actual move is uniformly distributed among the chosen action and the two contiguous actions (e.g., if chosen action is DOWN, the environment will pick randomly an action between (LEFT, DOWN, RIGHT)).\n",
    "\n",
    "Reward is 0 at every step, except from stepping on G state, which rewards with 1."
   ]
  },
  {
   "cell_type": "code",
   "execution_count": 2,
   "metadata": {},
   "outputs": [
    {
     "name": "stdout",
     "output_type": "stream",
     "text": [
      "16\n",
      "4\n"
     ]
    }
   ],
   "source": [
    "IS_SLIPPERY = True\n",
    "\n",
    "# print(gym.envs.registry.all())    # https://gym.openai.com/envs/#classic_control\n",
    "env = gym.make('FrozenLake-v0', is_slippery=IS_SLIPPERY)\n",
    "print(env.observation_space.n)\n",
    "print(env.action_space.n)"
   ]
  },
  {
   "cell_type": "code",
   "execution_count": 3,
   "metadata": {},
   "outputs": [
    {
     "name": "stdout",
     "output_type": "stream",
     "text": [
      "  (Down)\n",
      "SFF\u001b[41mF\u001b[0m\n",
      "FHFH\n",
      "FFFH\n",
      "HFFG\n",
      "Episode Ended\n"
     ]
    }
   ],
   "source": [
    "from IPython.display import clear_output\n",
    "\n",
    "for ep in range(2):\n",
    "    s = env.reset()\n",
    "\n",
    "    for i in range(20):\n",
    "        plt.pause(1)\n",
    "        clear_output(wait=True)\n",
    "        env.render()\n",
    "\n",
    "        s1, r, d, _ = env.step(env.action_space.sample())\n",
    "        \n",
    "        if d:\n",
    "            print(\"Episode Ended\")\n",
    "            break\n",
    "        "
   ]
  },
  {
   "cell_type": "markdown",
   "metadata": {},
   "source": [
    "### Q-Learning\n",
    "We are going to implement tabular Q-Learning. Remember that for each episode, action is chosen greedily (or $\\epsilon$-greedily - not necessary since Q-Learning is an off-policy method), while the action-value approximation is computed iteratively as $$Q(s,a) \\leftarrow Q(s,a) + \\alpha (r + \\gamma \\max Q(s', a') -Q(s,a))$$"
   ]
  },
  {
   "cell_type": "code",
   "execution_count": 4,
   "metadata": {},
   "outputs": [
    {
     "name": "stdout",
     "output_type": "stream",
     "text": [
      "Episode 0, Average Success Rate: 0.0, Exploration rate: 0.9995\n",
      "Episode 1000, Average Success Rate: 0.16183816183816183, Exploration rate: 0.606151595428677\n",
      "Episode 2000, Average Success Rate: 0.35282358820589704, Exploration rate: 0.36760355841993914\n",
      "Episode 3000, Average Success Rate: 0.41086304565144954, Exploration rate: 0.22293495089695248\n",
      "Episode 4000, Average Success Rate: 0.4303924018995251, Exploration rate: 0.1351999761510762\n",
      "Episode 5000, Average Success Rate: 0.46850629874025196, Exploration rate: 0.08199267758468616\n",
      "Episode 6000, Average Success Rate: 0.49291784702549574, Exploration rate: 0.04972485475880578\n",
      "Episode 7000, Average Success Rate: 0.5049278674475075, Exploration rate: 0.030155877983500955\n",
      "Episode 8000, Average Success Rate: 0.5176852893388326, Exploration rate: 0.018288177640071544\n",
      "Episode 9000, Average Success Rate: 0.5280524386179314, Exploration rate: 0.011090953530777752\n",
      "Episode 10000, Average Success Rate: 0.5353464653534646, Exploration rate: 0.006726162258635551\n",
      "Episode 11000, Average Success Rate: 0.5399509135533134, Exploration rate: 0.004079113540954552\n",
      "Episode 12000, Average Success Rate: 0.5442879760019999, Exploration rate: 0.0024737980798242264\n",
      "Episode 13000, Average Success Rate: 0.5461887547111761, Exploration rate: 0.0015002467762419717\n",
      "Episode 14000, Average Success Rate: 0.5481037068780802, Exploration rate: 0.000909831892902246\n",
      "Episode 15000, Average Success Rate: 0.5497633491100593, Exploration rate: 0.0005517719394242999\n",
      "Episode 16000, Average Success Rate: 0.5510280607462034, Exploration rate: 0.00033462475377169903\n",
      "Episode 17000, Average Success Rate: 0.552320451738133, Exploration rate: 0.0002029347957665263\n",
      "Episode 18000, Average Success Rate: 0.5554135881339926, Exploration rate: 0.0001230707856146795\n",
      "Episode 19000, Average Success Rate: 0.556549655281301, Exploration rate: 7.463687148674165e-05\n",
      "Episode 20000, Average Success Rate: 0.5593720313984301, Exploration rate: 4.5263890674830964e-05\n",
      "Episode 21000, Average Success Rate: 0.5604971191848007, Exploration rate: 2.7450504800258055e-05\n",
      "Episode 22000, Average Success Rate: 0.5623380755420209, Exploration rate: 1.6647491025511675e-05\n",
      "Episode 23000, Average Success Rate: 0.5628885700621712, Exploration rate: 1.0095951220608746e-05\n",
      "Episode 24000, Average Success Rate: 0.5606433065288946, Exploration rate: 6.122738308896529e-06\n",
      "Episode 25000, Average Success Rate: 0.5551777928882845, Exploration rate: 3.7131641764181064e-06\n",
      "Episode 26000, Average Success Rate: 0.5554017153186416, Exploration rate: 2.251866322785834e-06\n",
      "Episode 27000, Average Success Rate: 0.5559053368393764, Exploration rate: 1.3656551918446582e-06\n",
      "Episode 28000, Average Success Rate: 0.5574443769865361, Exploration rate: 8.28208177430808e-07\n",
      "Episode 29000, Average Success Rate: 0.5584635012585772, Exploration rate: 5.022708435185191e-07\n",
      "Episode 30000, Average Success Rate: 0.558981367287757, Exploration rate: 3.046045754237684e-07\n",
      "Episode 31000, Average Success Rate: 0.5605303054740169, Exploration rate: 1.8472891382490378e-07\n",
      "Episode 32000, Average Success Rate: 0.5616074497671948, Exploration rate: 1.120297407071251e-07\n",
      "Episode 33000, Average Success Rate: 0.5629223356867974, Exploration rate: 6.794097655336145e-08\n",
      "Episode 34000, Average Success Rate: 0.5640128231522602, Exploration rate: 4.1203132899251884e-08\n",
      "Episode 35000, Average Success Rate: 0.5652981343390189, Exploration rate: 2.498783866287266e-08\n",
      "Episode 36000, Average Success Rate: 0.5654842921029971, Exploration rate: 1.5153995269449287e-08\n",
      "Episode 37000, Average Success Rate: 0.5665792816410368, Exploration rate: 9.190213516453504e-09\n",
      "Episode 38000, Average Success Rate: 0.5667745585642483, Exploration rate: 5.573449309983453e-09\n",
      "Episode 39000, Average Success Rate: 0.5671393041204071, Exploration rate: 3.3800452138942725e-09\n",
      "Episode 40000, Average Success Rate: 0.5676608084797881, Exploration rate: 2.0498447213837586e-09\n",
      "Episode 41000, Average Success Rate: 0.5678398087851516, Exploration rate: 1.2431382173564905e-09\n",
      "Episode 42000, Average Success Rate: 0.5686293183495631, Exploration rate: 7.539071673726819e-10\n",
      "Episode 43000, Average Success Rate: 0.5687309597451222, Exploration rate: 4.572106376268779e-10\n",
      "Episode 44000, Average Success Rate: 0.5693734233312879, Exploration rate: 2.77277596242616e-10\n",
      "Episode 45000, Average Success Rate: 0.569609564231906, Exploration rate: 1.6815633550684257e-10\n",
      "Episode 46000, Average Success Rate: 0.5701832568857199, Exploration rate: 1.0197922065924198e-10\n",
      "Episode 47000, Average Success Rate: 0.569924044169273, Exploration rate: 6.18457901982715e-11\n",
      "Episode 48000, Average Success Rate: 0.570696443824087, Exploration rate: 3.750667773809844e-11\n",
      "Episode 49000, Average Success Rate: 0.5711720168976143, Exploration rate: 2.274610560297906e-11\n"
     ]
    }
   ],
   "source": [
    "# Q Table initialization\n",
    "Q = np.zeros([env.observation_space.n, env.action_space.n])\n",
    "\n",
    "# Set Learning Parameters\n",
    "if IS_SLIPPERY:\n",
    "    lr = 0.8\n",
    "else:\n",
    "    lr = .05\n",
    "y = 0.95\n",
    "numEpisodes = 50000\n",
    "maxEpStep = 100\n",
    "update = 1000\n",
    "eps = 1.0\n",
    "epsDecay = 1-5e-4\n",
    "rList = []\n",
    "rMean = []\n",
    "rWindow = []\n",
    "\n",
    "for i in range(numEpisodes):\n",
    "    s = env.reset()\n",
    "    rTotal = 0\n",
    "    done = False\n",
    "    j = 0\n",
    "    eps *= epsDecay\n",
    "    \n",
    "    while j < maxEpStep-1:\n",
    "        j += 1\n",
    "        # Choose action epsilon-greedily (epsilon decreases with number of episodes)\n",
    "        if IS_SLIPPERY:\n",
    "            a = np.argmax(Q[s, :] + np.random.randn(env.action_space.n)*(1./(i+1)))\n",
    "        else:\n",
    "            if np.random.uniform(0, 1, 1) < eps:\n",
    "                a = np.random.randint(0, 3, 1)[0]\n",
    "            else:\n",
    "                a = np.argmax(Q[s, :])\n",
    "         \n",
    "        s1, r, done, info = env.step(a)\n",
    "        \n",
    "        Q[s, a] = Q[s, a] + lr*(r + y*np.max(Q[s1, :]) - Q[s, a])\n",
    "        rTotal += r\n",
    "        s = s1\n",
    "        if done:\n",
    "            break\n",
    "    \n",
    "    rList.append(rTotal)\n",
    "    rMean.append(np.mean(rList))\n",
    "    rWindow.append(np.mean(rList[-1000:]))\n",
    "    if i % update == 0:\n",
    "        print(\"Episode \" + str(i) + \", Average Success Rate: \" + str(rMean[i]) + \", Exploration rate: \" + str(eps))"
   ]
  },
  {
   "cell_type": "markdown",
   "metadata": {},
   "source": [
    "The agent is learning to reach the goal in the environment, but due to the stochasticity of the FrozenLake environment, no optimal solution exists. But it keeps learning and refining the policy."
   ]
  },
  {
   "cell_type": "code",
   "execution_count": 5,
   "metadata": {},
   "outputs": [
    {
     "data": {
      "image/png": "[encoded data removed]",
      "text/plain": [
       "<matplotlib.figure.Figure at 0x7f75df405748>"
      ]
     },
     "metadata": {
      "needs_background": "light"
     },
     "output_type": "display_data"
    }
   ],
   "source": [
    "# Plot results.\n",
    "plt.plot(rMean)\n",
    "plt.plot(rWindow)\n",
    "plt.grid()\n",
    "plt.xlabel(\"Episodes\")\n",
    "plt.ylabel(\"Average Reward\")\n",
    "plt.show()"
   ]
  },
  {
   "cell_type": "code",
   "execution_count": 6,
   "metadata": {},
   "outputs": [
    {
     "name": "stdout",
     "output_type": "stream",
     "text": [
      "[[8.39202612e-02 2.09569437e-03 1.84254853e-03 2.31529985e-03]\n",
      " [3.54808322e-04 4.84912225e-04 7.06331740e-04 1.14542266e-01]\n",
      " [1.14869567e-03 4.48493647e-04 5.12027931e-04 9.05761798e-02]\n",
      " [4.15202303e-04 9.69850478e-05 4.65398354e-04 6.53073343e-02]\n",
      " [7.83955044e-02 6.69244715e-04 2.91026444e-05 1.91029713e-04]\n",
      " [0.00000000e+00 0.00000000e+00 0.00000000e+00 0.00000000e+00]\n",
      " [1.24717836e-06 5.57787138e-08 8.46634320e-03 2.24374433e-06]\n",
      " [0.00000000e+00 0.00000000e+00 0.00000000e+00 0.00000000e+00]\n",
      " [6.10081623e-04 1.18435085e-03 3.82888522e-04 6.15217937e-02]\n",
      " [1.14668949e-04 5.49441902e-02 1.81830296e-04 6.01808093e-04]\n",
      " [6.29433656e-01 3.74765342e-05 1.21031885e-06 1.33048885e-05]\n",
      " [0.00000000e+00 0.00000000e+00 0.00000000e+00 0.00000000e+00]\n",
      " [0.00000000e+00 0.00000000e+00 0.00000000e+00 0.00000000e+00]\n",
      " [7.84070742e-04 7.76143795e-05 1.66496237e-01 1.59014710e-03]\n",
      " [0.00000000e+00 0.00000000e+00 0.00000000e+00 8.34749103e-01]\n",
      " [0.00000000e+00 0.00000000e+00 0.00000000e+00 0.00000000e+00]]\n"
     ]
    }
   ],
   "source": [
    "print(Q)"
   ]
  },
  {
   "cell_type": "markdown",
   "metadata": {},
   "source": [
    "#### Learned Policy Evaluation"
   ]
  },
  {
   "cell_type": "code",
   "execution_count": 7,
   "metadata": {},
   "outputs": [
    {
     "name": "stdout",
     "output_type": "stream",
     "text": [
      "Accuracy: 0.583\n"
     ]
    }
   ],
   "source": [
    "rList = []\n",
    "\n",
    "# evaluate learned policy over 1000 episodes\n",
    "for i in range(1000):\n",
    "    s = env.reset()\n",
    "    rAll = 0\n",
    "    d = False\n",
    "    j = 0\n",
    "    \n",
    "    while j < maxEpStep-1:\n",
    "        j += 1\n",
    "        # Choose action greedily with noise\n",
    "        a = np.argmax(Q[s, :])\n",
    "        s1, r, d, info = env.step(a)\n",
    "        rAll += r\n",
    "        s = s1\n",
    "        if d == True:\n",
    "            break\n",
    "    #jList.append(j)\n",
    "    rList.append(rAll)\n",
    "    \n",
    "print(\"Accuracy: \" + str(np.sum(rList)/1000))"
   ]
  },
  {
   "cell_type": "markdown",
   "metadata": {},
   "source": [
    "## Q-Learning with Neural Networks (Q-Network Learning)\n",
    "In order to extend algorithms working on tabular methods to much more complex problems, it is necessary to introduce function approximation. In particular, it is necessary to define an approximator $Q_{\\phi}(s,a)$, where $\\phi$ indicate the weights of the network, for the action-value function $Q(s,a)$. This can be done with a neural network. In this case the network will be super simple, but the concept will help us develop much more complex networks in the future.\n",
    "\n",
    "\n",
    "The network has just one fully connected layer, connecying the input $s$ (a one-hot vector encoding of the state, 16-dimensional) and the output, a 4-dimensional vector representing $Q_{\\phi}(s, a)$. This generates a network with 16$\\times$4 weights, which replace the tabular entries.\n",
    "\n",
    "The update of the network is not the standard Q-Learning anymore, but it is based on backpropagation of the loss function, which is chosen as the squared error: $$L = \\sum_a (Q_{\\phi}(s,a))^2-y(s,a)),$$\n",
    "\n",
    "where $y(s,a)$ is the target, defined in such a way that by minimizing $L$, $Q_{\\phi}(s,a)$ will approach $$y(s,a)=r(s,a)+\\gamma\\max_{a'} Q_{\\phi}(s',a'),$$\n",
    "\n",
    "which is the goal of Q-learning."
   ]
  },
  {
   "cell_type": "code",
   "execution_count": 9,
   "metadata": {},
   "outputs": [],
   "source": [
    "import random\n",
    "import tensorflow as tf\n",
    "    \n",
    "tf.reset_default_graph() \n",
    "\n",
    "class Qnet():\n",
    "    def __init__(self):\n",
    "        self.inputs1 = tf.placeholder(shape=[None, 16], dtype=tf.float32)\n",
    "        self.W = tf.Variable(tf.random_uniform([16,4], 0, 0.01))\n",
    "        self.Qout = tf.matmul(self.inputs1, self.W)\n",
    "        self.predict = tf.argmax(self.Qout, 1)\n",
    "        self.targetQ = tf.placeholder(shape=[None, 4], dtype=tf.float32)\n",
    "        self.loss = tf.reduce_sum(tf.square(self.targetQ - self.Qout))\n",
    "        self.updateModel = tf.train.GradientDescentOptimizer(learning_rate=0.1).minimize(self.loss)\n",
    "    "
   ]
  },
  {
   "cell_type": "code",
   "execution_count": 10,
   "metadata": {},
   "outputs": [
    {
     "name": "stdout",
     "output_type": "stream",
     "text": [
      "Episode: 0, average reward: 0.0\n",
      "Episode: 1000, average reward: 0.03696303696303696\n",
      "Episode: 2000, average reward: 0.16741629185407297\n",
      "Episode: 3000, average reward: 0.3145618127290903\n",
      "Episode: 4000, average reward: 0.395651087228193\n",
      "Episode: 5000, average reward: 0.4475104979004199\n",
      "Episode: 6000, average reward: 0.4860856523912681\n",
      "Episode: 7000, average reward: 0.5116411941151264\n",
      "Episode: 8000, average reward: 0.5334333208348956\n",
      "Episode: 9000, average reward: 0.5519386734807243\n",
      "Episode: 10000, average reward: 0.5636436356364364\n",
      "Episode: 11000, average reward: 0.5758567402963367\n",
      "Episode: 12000, average reward: 0.5855345387884343\n",
      "Episode: 13000, average reward: 0.5932620567648642\n",
      "Episode: 14000, average reward: 0.6006713806156703\n",
      "Episode: 15000, average reward: 0.6050929938004133\n",
      "Episode: 16000, average reward: 0.6110243109805638\n",
      "Episode: 17000, average reward: 0.6158461266984295\n",
      "Episode: 18000, average reward: 0.6214099216710183\n",
      "Episode: 19000, average reward: 0.6254933950844692\n",
      "Episode: 20000, average reward: 0.6297185140742962\n",
      "Episode: 21000, average reward: 0.6333984095995429\n",
      "Episode: 22000, average reward: 0.6360165447025136\n",
      "Episode: 23000, average reward: 0.6397982696404504\n",
      "Episode: 24000, average reward: 0.6427232198658389\n",
      "Episode: 25000, average reward: 0.6453341866325347\n",
      "Episode: 26000, average reward: 0.6490904195992462\n",
      "Episode: 27000, average reward: 0.6509018184511685\n",
      "Episode: 28000, average reward: 0.6530838184350559\n",
      "Episode: 29000, average reward: 0.6557015275335333\n",
      "Episode: 30000, average reward: 0.6576447451751608\n",
      "Episode: 31000, average reward: 0.6605270797716203\n",
      "Episode: 32000, average reward: 0.661666822911784\n",
      "Episode: 33000, average reward: 0.6633132329323354\n",
      "Episode: 34000, average reward: 0.6655098379459428\n",
      "Episode: 35000, average reward: 0.6667238078912031\n",
      "Episode: 36000, average reward: 0.6682314380156107\n",
      "Episode: 37000, average reward: 0.6693062349666226\n",
      "Episode: 38000, average reward: 0.6706665614062788\n",
      "Episode: 39000, average reward: 0.6713930412040717\n",
      "Episode: 40000, average reward: 0.6730331741706458\n",
      "Episode: 41000, average reward: 0.6736421062900905\n",
      "Episode: 42000, average reward: 0.6741744244184662\n",
      "Episode: 43000, average reward: 0.675216855421967\n",
      "Episode: 44000, average reward: 0.6758482761755414\n",
      "Episode: 45000, average reward: 0.6772516166307415\n",
      "Episode: 46000, average reward: 0.6787895915306189\n",
      "Episode: 47000, average reward: 0.6800706367949618\n",
      "Episode: 48000, average reward: 0.6809024811983083\n",
      "Episode: 49000, average reward: 0.681455480500398\n",
      "Rate of successful episodes: 0.68162\n"
     ]
    }
   ],
   "source": [
    "# Train the network\n",
    "\n",
    "DQN = Qnet()\n",
    "init = tf.global_variables_initializer()\n",
    "\n",
    "y = 0.99\n",
    "e = 0.1\n",
    "# num_episodes = 2000\n",
    "\n",
    "jList = []\n",
    "rList_net = []\n",
    "meanReward_net = []\n",
    "\n",
    "with tf.Session() as sess:\n",
    "    sess.run(init)\n",
    "    for i in range(numEpisodes):\n",
    "        s = env.reset()\n",
    "        totalReward = 0\n",
    "        done = False\n",
    "        j = 1\n",
    "        while j < 99:\n",
    "            j += 1\n",
    "            \n",
    "            # e-greedy action\n",
    "            a, allQ = sess.run([DQN.predict, DQN.Qout], feed_dict={DQN.inputs1: np.identity(16)[s:s+1]})\n",
    "            if np.random.rand(1) < e:\n",
    "                a[0] = env.action_space.sample()\n",
    "                \n",
    "            s1, r, done, info = env.step(a[0])\n",
    "            Q1 = sess.run(DQN.Qout, feed_dict={DQN.inputs1: np.identity(16)[s1:s1+1]})\n",
    "            maxQ1 = np.max(Q1)\n",
    "            targetQ = allQ\n",
    "            targetQ[0, a[0]] = r + y*maxQ1\n",
    "            _ = sess.run(DQN.updateModel, feed_dict={DQN.inputs1: np.identity(16)[s:s+1], DQN.targetQ: targetQ})\n",
    "            totalReward += r\n",
    "            \n",
    "            s = s1\n",
    "            if done:\n",
    "                e = 1./((i/50) + 10)\n",
    "                break\n",
    "\n",
    "        jList.append(j)\n",
    "        rList_net.append(totalReward)\n",
    "        meanReward_net.append(np.sum(rList_net)/(i+1))\n",
    "        if i % update == 0:\n",
    "            print(\"Episode: \" + str(i) + \", average reward: \" + str(meanReward_net[i]))\n",
    "#             print(Q1)\n",
    "\n",
    "print(\"Rate of successful episodes: \" + str(sum(rList_net)/numEpisodes))"
   ]
  },
  {
   "cell_type": "code",
   "execution_count": 11,
   "metadata": {},
   "outputs": [
    {
     "data": {
      "image/png": "[encoded data removed]",
      "text/plain": [
       "<matplotlib.figure.Figure at 0x7f75dcf554a8>"
      ]
     },
     "metadata": {
      "needs_background": "light"
     },
     "output_type": "display_data"
    }
   ],
   "source": [
    "plt.plot(rMean, 'r', label=\"Tabular\")\n",
    "plt.plot(meanReward_net, 'b', label=\"DQN\")\n",
    "plt.grid()\n",
    "plt.xlabel(\"Episodes\")\n",
    "plt.ylabel(\"Average Reward\")\n",
    "plt.show()"
   ]
  },
  {
   "cell_type": "markdown",
   "metadata": {},
   "source": [
    "After about 1000 episodes the network starts to learn the correct path. Even if the network is the simplest network possible and there is no Experience Replay, Batch Training and target networks, it converges to a solution that is better than the one found with tabular methods."
   ]
  }
 ],
 "metadata": {
  "kernelspec": {
   "display_name": "Python 3",
   "language": "python",
   "name": "python3"
  },
  "language_info": {
   "codemirror_mode": {
    "name": "ipython",
    "version": 3
   },
   "file_extension": ".py",
   "mimetype": "text/x-python",
   "name": "python",
   "nbconvert_exporter": "python",
   "pygments_lexer": "ipython3",
   "version": "3.6.9"
  }
 },
 "nbformat": 4,
 "nbformat_minor": 1
}
