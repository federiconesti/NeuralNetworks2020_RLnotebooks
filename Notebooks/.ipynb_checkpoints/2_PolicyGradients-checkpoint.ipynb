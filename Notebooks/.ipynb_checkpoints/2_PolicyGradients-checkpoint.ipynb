{
 "cells": [
  {
   "cell_type": "markdown",
   "metadata": {},
   "source": [
    "# Reinforcement Learning: Policy Gradients\n",
    "\n",
    "The alternative to the function-based approach (to which TD, DP and Monte Carlo methods belong) is policy search. The aim is to directly modify the parameter vector $\\theta$ of the parametrized policy $\\pi_{\\theta}$."
   ]
  },
  {
   "cell_type": "code",
   "execution_count": 2,
   "metadata": {},
   "outputs": [],
   "source": [
    "import tensorflow as tf\n",
    "import tensorflow.contrib.slim as slim\n",
    "import numpy as np\n",
    "import gym\n",
    "import matplotlib.pyplot as plt\n",
    "%matplotlib inline"
   ]
  },
  {
   "cell_type": "markdown",
   "metadata": {},
   "source": [
    "The environment chosen for this exercise is the Cart-Pole environment. It has an observation space of dimension 4, that is $(x, \\dot{x}, \\theta, \\dot{\\theta})$. The action space is discrete, meaning that the cart can be pushed left or right."
   ]
  },
  {
   "cell_type": "code",
   "execution_count": 3,
   "metadata": {},
   "outputs": [],
   "source": [
    "env = gym.make('CartPole-v0')"
   ]
  },
  {
   "cell_type": "code",
   "execution_count": 4,
   "metadata": {},
   "outputs": [],
   "source": [
    "gamma = 0.99\n",
    "\n",
    "# Helper function to discout full episode return\n",
    "def discountRewards(r):\n",
    "    discountedR = np.zeros_like(r)\n",
    "    runningAdd = 0\n",
    "    for t in reversed(range(0, r.size)):\n",
    "        runningAdd = runningAdd * gamma + r[t]\n",
    "        discountedR[t] = runningAdd\n",
    "    return discountedR"
   ]
  },
  {
   "cell_type": "markdown",
   "metadata": {},
   "source": [
    "The class `agent` defines a neural network with 1 hidden layer (size h_size). It is a fully connected network with 4-dimensional continuous input state ($x, \\dot{x}, \\theta, \\dot{\\theta}$) and 1-dimensional discrete action space (force on the Cart), assuming values 0 or 1 (bang-bang controller). \n",
    "\n",
    "The loss function, as described in the slides, is the pseudo-loss function $$J(\\theta)=−\\frac{1}{|D|}\\sum_{\\tau\\in D}\\sum\\limits_{t=0}^T\\log⁡\\pi_{\\theta} (a_t│s_t)R(\\tau)$$,\n",
    "where $D$ is the set of collected trajectories with the same policy, and $R(\\tau)$ is the discounted return for the episode.\n"
   ]
  },
  {
   "cell_type": "code",
   "execution_count": 5,
   "metadata": {},
   "outputs": [],
   "source": [
    "class agent():\n",
    "    def __init__(self, lr, s_size, a_size, h_size):\n",
    "        # The policy net takes all the states of the episode as input, and outputs the correspondent actions\n",
    "        self.state_in = tf.placeholder(shape=[None, s_size], dtype=tf.float32)\n",
    "        hidden = slim.fully_connected(self.state_in, h_size, activation_fn=tf.nn.relu, biases_initializer=None)\n",
    "        self.output = slim.fully_connected(hidden, a_size, activation_fn=tf.nn.softmax, biases_initializer=None)\n",
    "        self.chosen_action = tf.argmax(self.output, 1)\n",
    "        \n",
    "        self.reward_holder = tf.placeholder(shape=[None], dtype=tf.float32)\n",
    "        self.action_holder = tf.placeholder(shape=[None], dtype=tf.int32)\n",
    "        \n",
    "        # Only the actions that were actually chosen are used to do backprop. \n",
    "        \"\"\"\n",
    "        self.outputs=[[0.1, 0.9], [0.7, 0.3]]\n",
    "        self.indexes=[0, 1]*2 + [1, 0] = [0, 2] + [1, 0] = [1, 2]\n",
    "        self.responsible_outputs=[0.9, 0.7]\n",
    "        \"\"\"\n",
    "        self.indexes = tf.range(0, tf.shape(self.output)[0]) * tf.shape(self.output)[1] + self.action_holder\n",
    "        self.responsible_outputs = tf.gather(tf.reshape(self.output, [-1]), self.indexes)\n",
    "        self.loss = -tf.reduce_mean(tf.log(self.responsible_outputs) * self.reward_holder)\n",
    "        \n",
    "        self.tvars = tf.trainable_variables()\n",
    "        self.gradient_holders = []\n",
    "        for idx, var in enumerate(self.tvars):\n",
    "            placeholder = tf.placeholder(tf.float32, name=str(idx) + '_holder')\n",
    "            self.gradient_holders.append(placeholder)\n",
    "            \n",
    "        self.gradients = tf.gradients(self.loss, self.tvars)\n",
    "        \n",
    "        optimizer = tf.train.AdamOptimizer(learning_rate = lr)\n",
    "        self.update_batch = optimizer.apply_gradients(zip(self.gradient_holders, self.tvars))"
   ]
  },
  {
   "cell_type": "code",
   "execution_count": 6,
   "metadata": {},
   "outputs": [
    {
     "name": "stdout",
     "output_type": "stream",
     "text": [
      "19.0\n",
      "34.07\n",
      "42.83\n",
      "57.72\n",
      "76.55\n",
      "106.18\n",
      "144.52\n",
      "164.64\n",
      "161.49\n",
      "147.94\n",
      "158.51\n",
      "145.35\n",
      "131.15\n",
      "107.99\n",
      "148.41\n",
      "166.72\n",
      "132.01\n",
      "136.11\n",
      "139.99\n",
      "153.6\n",
      "138.56\n",
      "112.91\n",
      "136.35\n",
      "134.73\n",
      "136.24\n",
      "Model saved in file: /tmp/model.ckpt\n"
     ]
    }
   ],
   "source": [
    "tf.reset_default_graph()\n",
    "\n",
    "myAgent = agent(lr=1e-2, s_size=4, a_size=2, h_size=10)\n",
    "\n",
    "total_episodes = 2500\n",
    "max_ep = 999\n",
    "update_frequency = 5\n",
    "\n",
    "init = tf.global_variables_initializer()\n",
    "\n",
    "saver = tf.train.Saver()\n",
    "\n",
    "with tf.Session() as sess:\n",
    "    sess.run(init)\n",
    "    i = 0\n",
    "    total_reward = []\n",
    "    total_length = []\n",
    "    \n",
    "    # Zero the gradient buffer.\n",
    "    gradBuffer = sess.run(tf.trainable_variables())\n",
    "    for ix, grad in enumerate(gradBuffer):\n",
    "        gradBuffer[ix] = grad * 0\n",
    "        \n",
    "    while i < total_episodes:\n",
    "        s = env.reset()\n",
    "        running_reward = 0\n",
    "        ep_history = []\n",
    "        for j in range(max_ep):\n",
    "            \n",
    "            # Choose a random action according to the distribution provided by the network\n",
    "            noise = np.array([0.1, 0.1, 0.1, 0.1])*np.random.randn(4)\n",
    "            a_dist = sess.run(myAgent.output, feed_dict={myAgent.state_in: [s + noise]})\n",
    "            a = np.random.choice(a_dist[0], p=a_dist[0])\n",
    "            a = np.argmax(a_dist == a)\n",
    "            \n",
    "            # Interact with env and store data\n",
    "            s1, r, done, info = env.step(a)\n",
    "            if i % 100 == 0:\n",
    "                env.render()\n",
    "                \n",
    "            ep_history.append([s, a, r, s1])\n",
    "            s = s1\n",
    "            running_reward += r\n",
    "            \n",
    "            # Update network when episode is over. The network accepts data from entire episode.\n",
    "            if done:\n",
    "                ep_history = np.array(ep_history)\n",
    "                ep_history[:, 2] = discountRewards(ep_history[:, 2])\n",
    "                feed_dict = {myAgent.reward_holder: ep_history[:, 2], \\\n",
    "                             myAgent.action_holder: ep_history[:, 1], \\\n",
    "                             myAgent.state_in: np.vstack(ep_history[:, 0])}\n",
    "                grads = sess.run(myAgent.gradients, feed_dict=feed_dict)\n",
    "                for idx, grad in enumerate(grads):\n",
    "                    gradBuffer[idx] += grad\n",
    "                    \n",
    "                if i % update_frequency == 0 and i != 0:\n",
    "                    feed_dict = dictionary = dict(zip(myAgent.gradient_holders, gradBuffer))\n",
    "                    _ = sess.run(myAgent.update_batch, feed_dict=feed_dict)\n",
    "                    for ix, grad in enumerate(gradBuffer):\n",
    "                        gradBuffer[ix] = grad * 0\n",
    "                        \n",
    "                total_reward.append(running_reward)\n",
    "                total_length.append(j)\n",
    "                break\n",
    "                \n",
    "        if i % 100 == 0:\n",
    "            print(np.mean(total_reward[-100:]))\n",
    "        i += 1\n",
    "#     print(sess.run(myAgent.tvars))\n",
    "    save_path = saver.save(sess, \"/tmp/model.ckpt\")\n",
    "    print(\"Model saved in file: %s\" % save_path)"
   ]
  },
  {
   "cell_type": "code",
   "execution_count": 7,
   "metadata": {},
   "outputs": [
    {
     "name": "stdout",
     "output_type": "stream",
     "text": [
      "WARNING:tensorflow:From /home/federico/.local/lib/python3.6/site-packages/tensorflow/python/training/saver.py:1276: checkpoint_exists (from tensorflow.python.training.checkpoint_management) is deprecated and will be removed in a future version.\n",
      "Instructions for updating:\n",
      "Use standard file APIs to check for files with this prefix.\n",
      "INFO:tensorflow:Restoring parameters from /tmp/model.ckpt\n",
      "Episode Reward: 200.0\n",
      "Episode Reward: 200.0\n",
      "Episode Reward: 200.0\n",
      "Episode Reward: 200.0\n",
      "Episode Reward: 200.0\n",
      "Episode Reward: 200.0\n",
      "Episode Reward: 200.0\n",
      "Episode Reward: 200.0\n",
      "Episode Reward: 200.0\n",
      "Episode Reward: 196.0\n",
      "Average Reward: 199.6\n"
     ]
    }
   ],
   "source": [
    "# Evaluation and rendering\n",
    "prop_control = False\n",
    "total_episodes = 10\n",
    "max_ep = 999\n",
    "\n",
    "with tf.Session() as sess:\n",
    "    sess.run(init)\n",
    "    i = 0\n",
    "    total_reward = []\n",
    "    total_length = []\n",
    "    saver.restore(sess, \"/tmp/model.ckpt\")\n",
    "        \n",
    "    while i < total_episodes:\n",
    "        s = env.reset()\n",
    "        running_reward = 0\n",
    "        ep_history = []\n",
    "        for j in range(max_ep):\n",
    "            noise = np.array([0.1, 0.1, 0.1, 0.1])*np.random.randn(4)\n",
    "            # NN control\n",
    "            a = sess.run(myAgent.chosen_action, feed_dict={myAgent.state_in: [s + noise]})\n",
    "            a = a[0]\n",
    "            \n",
    "            # Proportional control\n",
    "            if prop_control:\n",
    "                a = int(np.sign(np.dot(s, np.array([1, 1, 10, 10]))))\n",
    "                a = np.max([0, a])\n",
    "                \n",
    "            # Interact with env and store data\n",
    "            s1, r, d, info = env.step(a)\n",
    "            env.render()\n",
    "                \n",
    "            ep_history.append([s, a, r, s1])\n",
    "            s = s1\n",
    "            running_reward += r\n",
    "            \n",
    "            # Update network when episode is over. The network accepts data from entire episode.\n",
    "            if d == True:\n",
    "                total_reward.append(running_reward)\n",
    "                total_length.append(j)\n",
    "                break\n",
    "                \n",
    "        print(\"Episode Reward: \" + str(running_reward))\n",
    "        i += 1\n",
    "    print(\"Average Reward: \" + str(np.mean(total_reward[-total_episodes:])))"
   ]
  },
  {
   "cell_type": "code",
   "execution_count": 8,
   "metadata": {},
   "outputs": [],
   "source": [
    "# Remember to close Gym rendering window!\n",
    "env.close()"
   ]
  }
 ],
 "metadata": {
  "kernelspec": {
   "display_name": "Python 3",
   "language": "python",
   "name": "python3"
  },
  "language_info": {
   "codemirror_mode": {
    "name": "ipython",
    "version": 3
   },
   "file_extension": ".py",
   "mimetype": "text/x-python",
   "name": "python",
   "nbconvert_exporter": "python",
   "pygments_lexer": "ipython3",
   "version": "3.6.9"
  }
 },
 "nbformat": 4,
 "nbformat_minor": 2
}
